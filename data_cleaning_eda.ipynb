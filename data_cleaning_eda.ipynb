{
 "cells": [
  {
   "cell_type": "markdown",
   "metadata": {},
   "source": [
    "# VanMoof's Capital Bikeshare Project - EDA Data Cleaning Notebook"
   ]
  },
  {
   "cell_type": "markdown",
   "metadata": {},
   "source": [
    "#### Developed by Clare Cruz"
   ]
  },
  {
   "cell_type": "markdown",
   "metadata": {},
   "source": [
    "## Package Import"
   ]
  },
  {
   "cell_type": "code",
   "execution_count": 1,
   "metadata": {},
   "outputs": [],
   "source": [
    "import pandas as pd\n",
    "import datetime \n",
    "import numpy as np\n",
    "\n",
    "pd.set_option(\"display.max_rows\", 10)"
   ]
  },
  {
   "cell_type": "markdown",
   "metadata": {},
   "source": [
    "## Data Import"
   ]
  },
  {
   "cell_type": "markdown",
   "metadata": {},
   "source": [
    "We are bringing in the data from May 2019 and June 2019. These dates were chosen to avoid complications from COVID and a proof of concept for the modeling process. <br>\n",
    "We are also bringing in the station capacity data from https://opendata.dc.gov/ which provides data as of the pull date, which was 10/25/2021"
   ]
  },
  {
   "cell_type": "code",
   "execution_count": 3,
   "metadata": {},
   "outputs": [],
   "source": [
    "june_bike_data = pd.read_csv('Data/201906-capitalbikeshare-tripdata.csv')\n",
    "bike_capacity = pd.read_csv('Data/Capital_Bike_Share_Locations.csv')\n",
    "may_bike_data = pd.read_csv('Data/201905-capitalbikeshare-tripdata.csv')"
   ]
  },
  {
   "cell_type": "markdown",
   "metadata": {},
   "source": [
    "#### Datatime formatting"
   ]
  },
  {
   "cell_type": "markdown",
   "metadata": {},
   "source": [
    "To make life easier, we will format the date data to Python's datetime type"
   ]
  },
  {
   "cell_type": "markdown",
   "metadata": {},
   "source": [
    "Please note that for now, we will treat the may data and the remaining months data separately so that we can separately calculate the starting number of bikes. "
   ]
  },
  {
   "cell_type": "code",
   "execution_count": 4,
   "metadata": {},
   "outputs": [],
   "source": [
    "# Transform the data to pandas date time variables\n",
    "may_bike_data['Start date'] = pd.to_datetime(may_bike_data['Start date'], format = '%Y-%m-%d %H:%M:%S')\n",
    "may_bike_data['End date'] = pd.to_datetime(may_bike_data['End date'], format = '%Y-%m-%d %H:%M:%S')\n",
    "\n",
    "june_bike_data['Start date'] = pd.to_datetime(june_bike_data['Start date'], format = '%Y-%m-%d %H:%M:%S')\n",
    "june_bike_data['End date'] = pd.to_datetime(june_bike_data['End date'], format = '%Y-%m-%d %H:%M:%S')"
   ]
  },
  {
   "cell_type": "markdown",
   "metadata": {},
   "source": [
    "#### Extract the day info and time info separately"
   ]
  },
  {
   "cell_type": "code",
   "execution_count": 5,
   "metadata": {},
   "outputs": [],
   "source": [
    "# Extract the start and end times and date into separate columns\n",
    "may_bike_data['Start_time'] = may_bike_data['Start date'].dt.time\n",
    "may_bike_data['End_time'] = may_bike_data['End date'].dt.time\n",
    "\n",
    "may_bike_data['Start_day'] = may_bike_data['Start date'].dt.date\n",
    "may_bike_data['End_day'] = may_bike_data['End date'].dt.date\n",
    "\n",
    "june_bike_data['Start_time'] = june_bike_data['Start date'].dt.time\n",
    "june_bike_data['End_time'] = june_bike_data['End date'].dt.time\n",
    "\n",
    "june_bike_data['Start_day'] = june_bike_data['Start date'].dt.date\n",
    "june_bike_data['End_day'] = june_bike_data['End date'].dt.date"
   ]
  },
  {
   "cell_type": "code",
   "execution_count": 6,
   "metadata": {
    "tags": []
   },
   "outputs": [],
   "source": [
    "# Define hour \n",
    "may_bike_data['start_hour'] = may_bike_data['Start date'].dt.hour\n",
    "june_bike_data['start_hour'] = june_bike_data['Start date'].dt.hour\n",
    "#raw_bike_data"
   ]
  },
  {
   "cell_type": "markdown",
   "metadata": {},
   "source": [
    "### Accounting for the reshuffling"
   ]
  },
  {
   "cell_type": "markdown",
   "metadata": {},
   "source": [
    "One of the issues in this project is the van reshuffling. Our solution for this is to add rows to the data to account for these transitions. The outline of the reshuffling looks like: <br>\n",
    "For one bike: <br>\n",
    "Trip 1 - Station A --> Station B <br>\n",
    "Trip 2 - Station B --> Van (**Add row**) <br>\n",
    "Trip 3 - Van --> Station C (**Add row**) <br>\n",
    "Trip 4 - Station C --> Station D"
   ]
  },
  {
   "cell_type": "code",
   "execution_count": 445,
   "metadata": {},
   "outputs": [],
   "source": [
    "# Drop the rows that have a blank bike number (there are a few)\n",
    "sorted_bike_data = june_bike_data[june_bike_data['Bike number'].notna()]\n",
    "shuffle_bike_data = sorted_bike_data.sort_values(['Bike number', 'Start date'])\n",
    "shuffle_bike_data\n",
    "# Reset the index so that our indices work in the for loop in the next chunk\n",
    "shuffle_bike_data.reset_index(inplace = True, drop = True)"
   ]
  },
  {
   "cell_type": "code",
   "execution_count": 446,
   "metadata": {
    "tags": []
   },
   "outputs": [],
   "source": [
    "# Adds two rows each time the van has reshuffled the data\n",
    "# A --> B\n",
    "# B --> Van\n",
    "# Van --> C\n",
    "# C -->\n",
    "count = 0\n",
    "# For every row in the dataset\n",
    "shuffle_bike_data_clean = []\n",
    "for i in range(len(shuffle_bike_data)-1):\n",
    "    if shuffle_bike_data.loc[i,'End station number'] != shuffle_bike_data.loc[i+1,'Start station number']:\n",
    "        if shuffle_bike_data.loc[i,'Bike number'] == shuffle_bike_data.loc[i+1,'Bike number']:\n",
    "            count += 1\n",
    "            # Add the two rows to the dataframe\n",
    "            shuffle_bike_data_clean.append([0, \n",
    "                                            shuffle_bike_data.loc[i,'End date'], \n",
    "                                            shuffle_bike_data.loc[i,'End date'], \n",
    "                                            shuffle_bike_data.loc[i,'End station number'],\n",
    "                                            shuffle_bike_data.loc[i,'End station'], \n",
    "                                            'VAN001', \n",
    "                                            'VAN', \n",
    "                                            shuffle_bike_data.loc[i,'Bike number'],\n",
    "                                            'NA',\n",
    "                                            shuffle_bike_data.loc[i,'End_time'],\n",
    "                                            shuffle_bike_data.loc[i,'End_time'],\n",
    "                                            shuffle_bike_data.loc[i,'End_day'],\n",
    "                                            shuffle_bike_data.loc[i,'End_day'], \n",
    "                                            shuffle_bike_data.loc[i,'start_hour']])\n",
    "            shuffle_bike_data_clean.append([0,\n",
    "                                            shuffle_bike_data.loc[i,'End date'],\n",
    "                                            shuffle_bike_data.loc[i,'End date'],\n",
    "                                            'VAN001',\n",
    "                                            'VAN',\n",
    "                                            shuffle_bike_data.loc[i+1,'Start station number'],\n",
    "                                            shuffle_bike_data.loc[i+1,'Start station'],\n",
    "                                            shuffle_bike_data.loc[i,'Bike number'],\n",
    "                                            'NA',\n",
    "                                            shuffle_bike_data.loc[i,'End_time'],\n",
    "                                            shuffle_bike_data.loc[i,'End_time'], \n",
    "                                            shuffle_bike_data.loc[i,'End_day'],\n",
    "                                            shuffle_bike_data.loc[i,'End_day'], \n",
    "                                            shuffle_bike_data.loc[i,'start_hour']])"
   ]
  },
  {
   "cell_type": "code",
   "execution_count": 447,
   "metadata": {},
   "outputs": [
    {
     "data": {
      "text/plain": [
       "(65200, 14)"
      ]
     },
     "execution_count": 447,
     "metadata": {},
     "output_type": "execute_result"
    }
   ],
   "source": [
    "# Make the new rows a dataframe\n",
    "van_data = pd.DataFrame(shuffle_bike_data_clean, columns=['Duration', 'Start date', 'End date', 'Start station number', 'Start station', 'End station number', 'End station', 'Bike number', 'Member type','Start_time', 'End_time', 'Start_day', 'End_day', 'start_hour'])\n",
    "van_data.shape"
   ]
  },
  {
   "cell_type": "code",
   "execution_count": 448,
   "metadata": {},
   "outputs": [],
   "source": [
    "# Drop the rows that have a blank bike number (there are a few)\n",
    "may_sorted_bike_data = may_bike_data[may_bike_data['Bike number'].notna()]\n",
    "may_shuffle_bike_data = may_sorted_bike_data.sort_values(['Bike number', 'Start date'])\n",
    "#shuffle_bike_data\n",
    "# Reset the index so that our indices work in the for loop in the next chunk\n",
    "may_shuffle_bike_data.reset_index(inplace = True, drop = True)"
   ]
  },
  {
   "cell_type": "code",
   "execution_count": 449,
   "metadata": {
    "tags": []
   },
   "outputs": [],
   "source": [
    "# Adds two rows each time the van has reshuffled the data\n",
    "# A --> B\n",
    "# B --> Van\n",
    "# Van --> C\n",
    "# C -->\n",
    "count = 0\n",
    "# For every row in the dataset\n",
    "shuffle_bike_data_clean = []\n",
    "for i in range(len(may_shuffle_bike_data)-1):\n",
    "    if may_shuffle_bike_data.loc[i,'End station number'] != may_shuffle_bike_data.loc[i+1,'Start station number']:\n",
    "        if may_shuffle_bike_data.loc[i,'Bike number'] == may_shuffle_bike_data.loc[i+1,'Bike number']:\n",
    "            count += 1\n",
    "            # Add the two rows to the dataframe\n",
    "            shuffle_bike_data_clean.append([0, \n",
    "                                            may_shuffle_bike_data.loc[i,'End date'], \n",
    "                                            may_shuffle_bike_data.loc[i,'End date'], \n",
    "                                            may_shuffle_bike_data.loc[i,'End station number'],\n",
    "                                            may_shuffle_bike_data.loc[i,'End station'], \n",
    "                                            'VAN001', \n",
    "                                            'VAN', \n",
    "                                            may_shuffle_bike_data.loc[i,'Bike number'],\n",
    "                                            'NA',\n",
    "                                            may_shuffle_bike_data.loc[i,'End_time'],\n",
    "                                            may_shuffle_bike_data.loc[i,'End_time'],\n",
    "                                            may_shuffle_bike_data.loc[i,'End_day'],\n",
    "                                            may_shuffle_bike_data.loc[i,'End_day'], \n",
    "                                            may_shuffle_bike_data.loc[i,'start_hour']])\n",
    "            shuffle_bike_data_clean.append([0,\n",
    "                                            may_shuffle_bike_data.loc[i,'End date'],\n",
    "                                            may_shuffle_bike_data.loc[i,'End date'],\n",
    "                                            'VAN001',\n",
    "                                            'VAN',\n",
    "                                            may_shuffle_bike_data.loc[i+1,'Start station number'],\n",
    "                                            may_shuffle_bike_data.loc[i+1,'Start station'],\n",
    "                                            may_shuffle_bike_data.loc[i,'Bike number'],\n",
    "                                            'NA',\n",
    "                                            may_shuffle_bike_data.loc[i,'End_time'],\n",
    "                                            may_shuffle_bike_data.loc[i,'End_time'], \n",
    "                                            may_shuffle_bike_data.loc[i,'End_day'],\n",
    "                                            may_shuffle_bike_data.loc[i,'End_day'], \n",
    "                                            may_shuffle_bike_data.loc[i,'start_hour']])"
   ]
  },
  {
   "cell_type": "code",
   "execution_count": 450,
   "metadata": {},
   "outputs": [
    {
     "data": {
      "text/plain": [
       "(64238, 14)"
      ]
     },
     "execution_count": 450,
     "metadata": {},
     "output_type": "execute_result"
    }
   ],
   "source": [
    "# Make the new rows a dataframe\n",
    "may_van_data = pd.DataFrame(shuffle_bike_data_clean, columns=['Duration', 'Start date', 'End date', 'Start station number', 'Start station', 'End station number', 'End station', 'Bike number', 'Member type','Start_time', 'End_time', 'Start_day', 'End_day', 'start_hour'])\n",
    "may_van_data.shape"
   ]
  },
  {
   "cell_type": "code",
   "execution_count": 451,
   "metadata": {},
   "outputs": [
    {
     "name": "stdout",
     "output_type": "stream",
     "text": [
      "(350130, 14)\n"
     ]
    },
    {
     "data": {
      "text/plain": [
       "(415330, 14)"
      ]
     },
     "execution_count": 451,
     "metadata": {},
     "output_type": "execute_result"
    }
   ],
   "source": [
    "# Combine the van data\n",
    "print(shuffle_bike_data.shape)\n",
    "june_shuffle_data = pd.concat([shuffle_bike_data, van_data], axis = 0)\n",
    "june_shuffle_data.shape"
   ]
  },
  {
   "cell_type": "markdown",
   "metadata": {},
   "source": [
    "Data has been successfully added"
   ]
  },
  {
   "cell_type": "code",
   "execution_count": 452,
   "metadata": {},
   "outputs": [
    {
     "name": "stdout",
     "output_type": "stream",
     "text": [
      "(337704, 14)\n"
     ]
    },
    {
     "data": {
      "text/plain": [
       "(401942, 14)"
      ]
     },
     "execution_count": 452,
     "metadata": {},
     "output_type": "execute_result"
    }
   ],
   "source": [
    "# Combine the van data\n",
    "print(may_shuffle_bike_data.shape)\n",
    "may_shuffle_data = pd.concat([may_shuffle_bike_data, may_van_data], axis = 0)\n",
    "may_shuffle_data.shape"
   ]
  },
  {
   "cell_type": "markdown",
   "metadata": {},
   "source": [
    "Data has been successfully added"
   ]
  },
  {
   "cell_type": "markdown",
   "metadata": {},
   "source": [
    "#### Partition data into two tables: departures and arrivals"
   ]
  },
  {
   "cell_type": "markdown",
   "metadata": {},
   "source": [
    "Calculating the number of arrivals and departures separately makes life easier."
   ]
  },
  {
   "cell_type": "code",
   "execution_count": 453,
   "metadata": {},
   "outputs": [],
   "source": [
    "# Make a ride id column so that we can merge two dfs together later\n",
    "may_bike_data['ride_id'] = np.arange(may_bike_data.shape[0])\n",
    "june_shuffle_data['ride_id'] = np.arange(june_shuffle_data.shape[0])"
   ]
  },
  {
   "cell_type": "code",
   "execution_count": 454,
   "metadata": {},
   "outputs": [],
   "source": [
    "# Make two separate tables so we can easily calculate the number of arrivals/departures\n",
    "may_arrivals = may_bike_data\n",
    "may_departures = may_bike_data\n",
    "\n",
    "june_arrivals = june_shuffle_data\n",
    "june_departures = june_shuffle_data"
   ]
  },
  {
   "cell_type": "markdown",
   "metadata": {},
   "source": [
    "#### Arrivals Table"
   ]
  },
  {
   "cell_type": "code",
   "execution_count": 455,
   "metadata": {},
   "outputs": [
    {
     "data": {
      "text/html": [
       "<div>\n",
       "<style scoped>\n",
       "    .dataframe tbody tr th:only-of-type {\n",
       "        vertical-align: middle;\n",
       "    }\n",
       "\n",
       "    .dataframe tbody tr th {\n",
       "        vertical-align: top;\n",
       "    }\n",
       "\n",
       "    .dataframe thead th {\n",
       "        text-align: right;\n",
       "    }\n",
       "</style>\n",
       "<table border=\"1\" class=\"dataframe\">\n",
       "  <thead>\n",
       "    <tr style=\"text-align: right;\">\n",
       "      <th></th>\n",
       "      <th>Start_day</th>\n",
       "      <th>start_hour</th>\n",
       "      <th>station_id</th>\n",
       "      <th>num_arrivals</th>\n",
       "    </tr>\n",
       "  </thead>\n",
       "  <tbody>\n",
       "    <tr>\n",
       "      <th>3368</th>\n",
       "      <td>2019-06-01</td>\n",
       "      <td>19</td>\n",
       "      <td>31000</td>\n",
       "      <td>1</td>\n",
       "    </tr>\n",
       "    <tr>\n",
       "      <th>5099</th>\n",
       "      <td>2019-06-02</td>\n",
       "      <td>9</td>\n",
       "      <td>31000</td>\n",
       "      <td>1</td>\n",
       "    </tr>\n",
       "    <tr>\n",
       "      <th>5834</th>\n",
       "      <td>2019-06-02</td>\n",
       "      <td>12</td>\n",
       "      <td>31000</td>\n",
       "      <td>1</td>\n",
       "    </tr>\n",
       "    <tr>\n",
       "      <th>6111</th>\n",
       "      <td>2019-06-02</td>\n",
       "      <td>13</td>\n",
       "      <td>31000</td>\n",
       "      <td>1</td>\n",
       "    </tr>\n",
       "    <tr>\n",
       "      <th>7197</th>\n",
       "      <td>2019-06-02</td>\n",
       "      <td>17</td>\n",
       "      <td>31000</td>\n",
       "      <td>1</td>\n",
       "    </tr>\n",
       "  </tbody>\n",
       "</table>\n",
       "</div>"
      ],
      "text/plain": [
       "       Start_day  start_hour station_id  num_arrivals\n",
       "3368  2019-06-01          19      31000             1\n",
       "5099  2019-06-02           9      31000             1\n",
       "5834  2019-06-02          12      31000             1\n",
       "6111  2019-06-02          13      31000             1\n",
       "7197  2019-06-02          17      31000             1"
      ]
     },
     "execution_count": 455,
     "metadata": {},
     "output_type": "execute_result"
    }
   ],
   "source": [
    "# Aggregate the data\n",
    "may_arrivals_agg = may_arrivals.groupby(['Start_day', 'start_hour', 'End station number']).count()\n",
    "june_arrivals_agg = june_arrivals.groupby(['Start_day', 'start_hour', 'End station number']).count()\n",
    "\n",
    "# We only need one column to get the counts \n",
    "may_arrivals_df = may_arrivals_agg['Bike number']\n",
    "june_arrivals_df = june_arrivals_agg['Bike number']\n",
    "\n",
    "# Move the start day, start hour, and station number variables to columns instead of indexes\n",
    "may_arrivals_df = may_arrivals_df.reset_index(level = [0,1,2])\n",
    "june_arrivals_df = june_arrivals_df.reset_index(level = [0,1,2])\n",
    "\n",
    "# Normalize the variable names so we can merge tables\n",
    "may_arrivals_df.rename({'End station number':'station_id', 'Bike number':'num_arrivals'}, axis = 1, inplace = True)\n",
    "june_arrivals_df.rename({'End station number':'station_id', 'Bike number':'num_arrivals'}, axis = 1, inplace = True)\n",
    "june_arrivals_df[june_arrivals_df['station_id'] == 31000].head()"
   ]
  },
  {
   "cell_type": "markdown",
   "metadata": {},
   "source": [
    "#### Departures Table"
   ]
  },
  {
   "cell_type": "code",
   "execution_count": 456,
   "metadata": {},
   "outputs": [],
   "source": [
    "# Aggregate the data\n",
    "may_depart_agg = may_departures.groupby(['Start_day', 'start_hour','Start station number']).count()\n",
    "june_depart_agg = june_departures.groupby(['Start_day', 'start_hour','Start station number']).count()\n",
    "\n",
    "# We only need one column to get the counts \n",
    "may_depart_df = may_depart_agg['Bike number']\n",
    "june_depart_df = june_depart_agg['Bike number']\n",
    "\n",
    "# Move the start day, start hour, and station number variables to columns instead of indexes\n",
    "may_depart_df = may_depart_df.reset_index(level = [0,1,2])\n",
    "june_depart_df = june_depart_df.reset_index(level = [0,1,2])\n",
    "\n",
    "# Normalize the variable names so we can merge tables\n",
    "may_depart_df.rename({'Start station number':'station_id', 'Bike number':'num_depart'}, axis = 1, inplace = True)\n",
    "june_depart_df.rename({'Start station number':'station_id', 'Bike number':'num_depart'}, axis = 1, inplace = True)"
   ]
  },
  {
   "cell_type": "markdown",
   "metadata": {},
   "source": [
    "#### Merge departure and arrivals table together"
   ]
  },
  {
   "cell_type": "code",
   "execution_count": 457,
   "metadata": {},
   "outputs": [],
   "source": [
    "may_final_bike_data = pd.merge(may_arrivals_df, may_depart_df, how = 'outer', on = ['Start_day', 'start_hour','station_id']).fillna(0)\n",
    "june_final_bike_data = pd.merge(june_arrivals_df, june_depart_df, how = 'outer', on = ['Start_day', 'start_hour','station_id']).fillna(0)\n",
    "\n",
    "may_final_bike_data.reset_index(inplace = True)"
   ]
  },
  {
   "cell_type": "code",
   "execution_count": 458,
   "metadata": {},
   "outputs": [
    {
     "data": {
      "text/html": [
       "<div>\n",
       "<style scoped>\n",
       "    .dataframe tbody tr th:only-of-type {\n",
       "        vertical-align: middle;\n",
       "    }\n",
       "\n",
       "    .dataframe tbody tr th {\n",
       "        vertical-align: top;\n",
       "    }\n",
       "\n",
       "    .dataframe thead th {\n",
       "        text-align: right;\n",
       "    }\n",
       "</style>\n",
       "<table border=\"1\" class=\"dataframe\">\n",
       "  <thead>\n",
       "    <tr style=\"text-align: right;\">\n",
       "      <th></th>\n",
       "      <th>Start_day</th>\n",
       "      <th>start_hour</th>\n",
       "      <th>station_id</th>\n",
       "      <th>num_arrivals</th>\n",
       "      <th>num_depart</th>\n",
       "    </tr>\n",
       "  </thead>\n",
       "  <tbody>\n",
       "    <tr>\n",
       "      <th>0</th>\n",
       "      <td>2019-06-01</td>\n",
       "      <td>0</td>\n",
       "      <td>31004</td>\n",
       "      <td>1.0</td>\n",
       "      <td>0.0</td>\n",
       "    </tr>\n",
       "    <tr>\n",
       "      <th>1</th>\n",
       "      <td>2019-06-01</td>\n",
       "      <td>0</td>\n",
       "      <td>31014</td>\n",
       "      <td>1.0</td>\n",
       "      <td>0.0</td>\n",
       "    </tr>\n",
       "    <tr>\n",
       "      <th>2</th>\n",
       "      <td>2019-06-01</td>\n",
       "      <td>0</td>\n",
       "      <td>31018</td>\n",
       "      <td>1.0</td>\n",
       "      <td>0.0</td>\n",
       "    </tr>\n",
       "    <tr>\n",
       "      <th>3</th>\n",
       "      <td>2019-06-01</td>\n",
       "      <td>0</td>\n",
       "      <td>31020</td>\n",
       "      <td>1.0</td>\n",
       "      <td>0.0</td>\n",
       "    </tr>\n",
       "    <tr>\n",
       "      <th>4</th>\n",
       "      <td>2019-06-01</td>\n",
       "      <td>0</td>\n",
       "      <td>31026</td>\n",
       "      <td>1.0</td>\n",
       "      <td>0.0</td>\n",
       "    </tr>\n",
       "  </tbody>\n",
       "</table>\n",
       "</div>"
      ],
      "text/plain": [
       "    Start_day  start_hour station_id  num_arrivals  num_depart\n",
       "0  2019-06-01           0      31004           1.0         0.0\n",
       "1  2019-06-01           0      31014           1.0         0.0\n",
       "2  2019-06-01           0      31018           1.0         0.0\n",
       "3  2019-06-01           0      31020           1.0         0.0\n",
       "4  2019-06-01           0      31026           1.0         0.0"
      ]
     },
     "execution_count": 458,
     "metadata": {},
     "output_type": "execute_result"
    }
   ],
   "source": [
    "june_final_bike_data.head()"
   ]
  },
  {
   "cell_type": "markdown",
   "metadata": {},
   "source": [
    "### Calculating the starting number of bikes at every station"
   ]
  },
  {
   "cell_type": "markdown",
   "metadata": {},
   "source": [
    "Another quirk to this dataset is the starting number of bikes. If we start out in June without looking at some relative history, we are assuming that all of this stations have no bikes to start with. Therefore, we will look at May data to get a sense of how many bikes the stations start out with. We considered a whole month because some bikes don't get used very often so we need to expand the timeframe to capture all the bikes."
   ]
  },
  {
   "cell_type": "markdown",
   "metadata": {},
   "source": [
    "The starting number of bikes is calculated by finding the last location for each bike. A high level outline of the code is: <br>\n",
    "<br>\n",
    "For every bike: <br>\n",
    ">    For every station:\n",
    ">>        When was the last time the bike arrived and departed there\n",
    ">>        If the departure time is before the arrival time\n",
    ">>>            Then that bike must be at that station and flag it"
   ]
  },
  {
   "cell_type": "code",
   "execution_count": 459,
   "metadata": {},
   "outputs": [],
   "source": [
    "may_shuffle_data.reset_index(drop = True, inplace = True)"
   ]
  },
  {
   "cell_type": "code",
   "execution_count": 460,
   "metadata": {},
   "outputs": [],
   "source": [
    "# Get the latest time every bike was at every station\n",
    "start_depart = may_shuffle_data[['Bike number', 'Start date', 'Start station number']].loc[may_shuffle_data.groupby(['Start station number','Bike number'])['Start date'].idxmax()]\n",
    "start_arr = may_shuffle_data[['Bike number', 'End date', 'End station number']].loc[may_shuffle_data.groupby(['End station number','Bike number'])['End date'].idxmax()]\n",
    "\n",
    "start_arr.reset_index(inplace = True, drop = True)\n",
    "start_depart.reset_index(inplace = True, drop = True)\n",
    "\n",
    "start_arr.rename({'End date':'max_arrived', 'End station number':'station_id'},axis = 1, inplace = True)\n",
    "start_depart.rename({'Start date':'max_depart', 'Start station number':'station_id'},axis = 1, inplace = True)"
   ]
  },
  {
   "cell_type": "markdown",
   "metadata": {},
   "source": [
    "#### There are bikes that are present in May but not in June so we need to exclude them"
   ]
  },
  {
   "cell_type": "code",
   "execution_count": 461,
   "metadata": {},
   "outputs": [
    {
     "name": "stdout",
     "output_type": "stream",
     "text": [
      "Number of bikes that are in May but not june: 218\n"
     ]
    }
   ],
   "source": [
    "diff_bike = len(list(set(may_shuffle_data['Bike number'].value_counts().index)-set(june_shuffle_data['Bike number'].value_counts().index)))\n",
    "print('Number of bikes that are in May but not june: {}'.format(diff_bike))"
   ]
  },
  {
   "cell_type": "code",
   "execution_count": 462,
   "metadata": {},
   "outputs": [],
   "source": [
    "# Excluse any bikes that are not present in June\n",
    "start_arr_filtered = start_arr.loc[start_arr['Bike number'].isin(june_bike_data['Bike number'].value_counts().index)]\n",
    "start_depart_filtered = start_depart.loc[start_depart['Bike number'].isin(june_bike_data['Bike number'].value_counts().index)]"
   ]
  },
  {
   "cell_type": "code",
   "execution_count": 463,
   "metadata": {},
   "outputs": [
    {
     "name": "stdout",
     "output_type": "stream",
     "text": [
      "Number of bikes in May: 4720\n",
      "Number of bikes in May after excluding bikes that are not present in June: 4502\n"
     ]
    }
   ],
   "source": [
    "# Merge the arrivals and departure together and create a flag that indicates the last station every bike is at\n",
    "may_last_bike_full = pd.merge(start_arr_filtered,start_depart_filtered,  how = 'outer', left_on = ['Bike number','station_id'], right_on = ['Bike number','station_id'])\n",
    "may_last_bike_full['flag'] = np.where(((may_last_bike_full.max_arrived > may_last_bike_full.max_depart) | (may_last_bike_full.max_depart.isna())) , 1, 0)\n",
    "print('Number of bikes in May: {}'.format(len(may_shuffle_data['Bike number'].value_counts())))\n",
    "print('Number of bikes in May after excluding bikes that are not present in June: {}'.format(may_last_bike_full[may_last_bike_full['flag'] == 1]['flag'].sum()))"
   ]
  },
  {
   "cell_type": "code",
   "execution_count": 464,
   "metadata": {},
   "outputs": [
    {
     "data": {
      "text/html": [
       "<div>\n",
       "<style scoped>\n",
       "    .dataframe tbody tr th:only-of-type {\n",
       "        vertical-align: middle;\n",
       "    }\n",
       "\n",
       "    .dataframe tbody tr th {\n",
       "        vertical-align: top;\n",
       "    }\n",
       "\n",
       "    .dataframe thead th {\n",
       "        text-align: right;\n",
       "    }\n",
       "</style>\n",
       "<table border=\"1\" class=\"dataframe\">\n",
       "  <thead>\n",
       "    <tr style=\"text-align: right;\">\n",
       "      <th></th>\n",
       "      <th>station_id</th>\n",
       "      <th>num_arrivals</th>\n",
       "      <th>Start_day</th>\n",
       "      <th>start_hour</th>\n",
       "      <th>num_depart</th>\n",
       "      <th>diff</th>\n",
       "    </tr>\n",
       "  </thead>\n",
       "  <tbody>\n",
       "    <tr>\n",
       "      <th>0</th>\n",
       "      <td>31000</td>\n",
       "      <td>6</td>\n",
       "      <td>2019-05-31</td>\n",
       "      <td>23</td>\n",
       "      <td>0</td>\n",
       "      <td>6</td>\n",
       "    </tr>\n",
       "    <tr>\n",
       "      <th>1</th>\n",
       "      <td>31001</td>\n",
       "      <td>2</td>\n",
       "      <td>2019-05-31</td>\n",
       "      <td>23</td>\n",
       "      <td>0</td>\n",
       "      <td>2</td>\n",
       "    </tr>\n",
       "    <tr>\n",
       "      <th>2</th>\n",
       "      <td>31002</td>\n",
       "      <td>4</td>\n",
       "      <td>2019-05-31</td>\n",
       "      <td>23</td>\n",
       "      <td>0</td>\n",
       "      <td>4</td>\n",
       "    </tr>\n",
       "    <tr>\n",
       "      <th>3</th>\n",
       "      <td>31003</td>\n",
       "      <td>1</td>\n",
       "      <td>2019-05-31</td>\n",
       "      <td>23</td>\n",
       "      <td>0</td>\n",
       "      <td>1</td>\n",
       "    </tr>\n",
       "    <tr>\n",
       "      <th>4</th>\n",
       "      <td>31004</td>\n",
       "      <td>5</td>\n",
       "      <td>2019-05-31</td>\n",
       "      <td>23</td>\n",
       "      <td>0</td>\n",
       "      <td>5</td>\n",
       "    </tr>\n",
       "  </tbody>\n",
       "</table>\n",
       "</div>"
      ],
      "text/plain": [
       "  station_id  num_arrivals   Start_day  start_hour  num_depart  diff\n",
       "0      31000             6  2019-05-31          23           0     6\n",
       "1      31001             2  2019-05-31          23           0     2\n",
       "2      31002             4  2019-05-31          23           0     4\n",
       "3      31003             1  2019-05-31          23           0     1\n",
       "4      31004             5  2019-05-31          23           0     5"
      ]
     },
     "execution_count": 464,
     "metadata": {},
     "output_type": "execute_result"
    }
   ],
   "source": [
    "# Create a dataframe that matches the June data so that the tables can be combined\n",
    "may_last_bike = may_last_bike_full.groupby('station_id')['flag'].sum()\n",
    "may_last_bike = pd.DataFrame(may_last_bike)\n",
    "may_last_bike.reset_index(inplace = True)\n",
    "may_last_bike['Start_day'] = datetime.date(day = 31, month = 5, year = 2019) # Can be anything\n",
    "may_last_bike['start_hour'] = 23 # Can be anything\n",
    "may_last_bike['num_depart'] = 0 # So we can get the starting number\n",
    "may_last_bike.rename({'flag':'num_arrivals'}, axis = 1,inplace = True)\n",
    "may_last_bike['diff'] = may_last_bike['num_arrivals']\n",
    "may_last_bike.head()"
   ]
  },
  {
   "cell_type": "markdown",
   "metadata": {},
   "source": [
    "#### Calculate the difference in arrivals and departures"
   ]
  },
  {
   "cell_type": "code",
   "execution_count": 465,
   "metadata": {},
   "outputs": [],
   "source": [
    "june_final_bike_data['diff'] = june_final_bike_data['num_arrivals'] - june_final_bike_data['num_depart']"
   ]
  },
  {
   "cell_type": "code",
   "execution_count": 466,
   "metadata": {},
   "outputs": [
    {
     "data": {
      "text/html": [
       "<div>\n",
       "<style scoped>\n",
       "    .dataframe tbody tr th:only-of-type {\n",
       "        vertical-align: middle;\n",
       "    }\n",
       "\n",
       "    .dataframe tbody tr th {\n",
       "        vertical-align: top;\n",
       "    }\n",
       "\n",
       "    .dataframe thead th {\n",
       "        text-align: right;\n",
       "    }\n",
       "</style>\n",
       "<table border=\"1\" class=\"dataframe\">\n",
       "  <thead>\n",
       "    <tr style=\"text-align: right;\">\n",
       "      <th></th>\n",
       "      <th>station_id</th>\n",
       "      <th>num_arrivals</th>\n",
       "      <th>Start_day</th>\n",
       "      <th>start_hour</th>\n",
       "      <th>num_depart</th>\n",
       "      <th>diff</th>\n",
       "    </tr>\n",
       "  </thead>\n",
       "  <tbody>\n",
       "    <tr>\n",
       "      <th>0</th>\n",
       "      <td>31000</td>\n",
       "      <td>6.0</td>\n",
       "      <td>2019-05-31</td>\n",
       "      <td>23</td>\n",
       "      <td>0.0</td>\n",
       "      <td>6.0</td>\n",
       "    </tr>\n",
       "    <tr>\n",
       "      <th>1</th>\n",
       "      <td>31001</td>\n",
       "      <td>2.0</td>\n",
       "      <td>2019-05-31</td>\n",
       "      <td>23</td>\n",
       "      <td>0.0</td>\n",
       "      <td>2.0</td>\n",
       "    </tr>\n",
       "    <tr>\n",
       "      <th>2</th>\n",
       "      <td>31002</td>\n",
       "      <td>4.0</td>\n",
       "      <td>2019-05-31</td>\n",
       "      <td>23</td>\n",
       "      <td>0.0</td>\n",
       "      <td>4.0</td>\n",
       "    </tr>\n",
       "    <tr>\n",
       "      <th>3</th>\n",
       "      <td>31003</td>\n",
       "      <td>1.0</td>\n",
       "      <td>2019-05-31</td>\n",
       "      <td>23</td>\n",
       "      <td>0.0</td>\n",
       "      <td>1.0</td>\n",
       "    </tr>\n",
       "    <tr>\n",
       "      <th>4</th>\n",
       "      <td>31004</td>\n",
       "      <td>5.0</td>\n",
       "      <td>2019-05-31</td>\n",
       "      <td>23</td>\n",
       "      <td>0.0</td>\n",
       "      <td>5.0</td>\n",
       "    </tr>\n",
       "  </tbody>\n",
       "</table>\n",
       "</div>"
      ],
      "text/plain": [
       "  station_id  num_arrivals   Start_day  start_hour  num_depart  diff\n",
       "0      31000           6.0  2019-05-31          23         0.0   6.0\n",
       "1      31001           2.0  2019-05-31          23         0.0   2.0\n",
       "2      31002           4.0  2019-05-31          23         0.0   4.0\n",
       "3      31003           1.0  2019-05-31          23         0.0   1.0\n",
       "4      31004           5.0  2019-05-31          23         0.0   5.0"
      ]
     },
     "execution_count": 466,
     "metadata": {},
     "output_type": "execute_result"
    }
   ],
   "source": [
    "full_data = pd.concat([may_last_bike, june_final_bike_data], axis = 0)\n",
    "full_data.head()"
   ]
  },
  {
   "cell_type": "markdown",
   "metadata": {},
   "source": [
    "### Bikeshare capacity data"
   ]
  },
  {
   "cell_type": "markdown",
   "metadata": {},
   "source": [
    "Now we need the capacity information from the other dataset so that we can set a limit to the cumulative difference for bike availability"
   ]
  },
  {
   "cell_type": "code",
   "execution_count": 467,
   "metadata": {},
   "outputs": [
    {
     "data": {
      "text/html": [
       "<div>\n",
       "<style scoped>\n",
       "    .dataframe tbody tr th:only-of-type {\n",
       "        vertical-align: middle;\n",
       "    }\n",
       "\n",
       "    .dataframe tbody tr th {\n",
       "        vertical-align: top;\n",
       "    }\n",
       "\n",
       "    .dataframe thead th {\n",
       "        text-align: right;\n",
       "    }\n",
       "</style>\n",
       "<table border=\"1\" class=\"dataframe\">\n",
       "  <thead>\n",
       "    <tr style=\"text-align: right;\">\n",
       "      <th></th>\n",
       "      <th>NAME</th>\n",
       "      <th>NUM_DOCKS_AVAILABLE</th>\n",
       "      <th>NUM_BIKES_AVAILABLE</th>\n",
       "      <th>LONGITUDE</th>\n",
       "      <th>LATITUDE</th>\n",
       "    </tr>\n",
       "  </thead>\n",
       "  <tbody>\n",
       "    <tr>\n",
       "      <th>0</th>\n",
       "      <td>Duke St &amp; John Carlyle St</td>\n",
       "      <td>5</td>\n",
       "      <td>10</td>\n",
       "      <td>-77.060866</td>\n",
       "      <td>38.804378</td>\n",
       "    </tr>\n",
       "    <tr>\n",
       "      <th>1</th>\n",
       "      <td>Langston Blvd &amp; N Cleveland St</td>\n",
       "      <td>8</td>\n",
       "      <td>7</td>\n",
       "      <td>-77.091690</td>\n",
       "      <td>38.894941</td>\n",
       "    </tr>\n",
       "    <tr>\n",
       "      <th>2</th>\n",
       "      <td>Arlington Blvd &amp; S George Mason Dr</td>\n",
       "      <td>12</td>\n",
       "      <td>3</td>\n",
       "      <td>-77.104503</td>\n",
       "      <td>38.869442</td>\n",
       "    </tr>\n",
       "    <tr>\n",
       "      <th>3</th>\n",
       "      <td>10th &amp; G St NW</td>\n",
       "      <td>15</td>\n",
       "      <td>7</td>\n",
       "      <td>-77.026235</td>\n",
       "      <td>38.898243</td>\n",
       "    </tr>\n",
       "    <tr>\n",
       "      <th>4</th>\n",
       "      <td>Langston Blvd &amp; N Scott St</td>\n",
       "      <td>4</td>\n",
       "      <td>11</td>\n",
       "      <td>-77.080851</td>\n",
       "      <td>38.897612</td>\n",
       "    </tr>\n",
       "  </tbody>\n",
       "</table>\n",
       "</div>"
      ],
      "text/plain": [
       "                                 NAME  NUM_DOCKS_AVAILABLE  \\\n",
       "0           Duke St & John Carlyle St                    5   \n",
       "1      Langston Blvd & N Cleveland St                    8   \n",
       "2  Arlington Blvd & S George Mason Dr                   12   \n",
       "3                      10th & G St NW                   15   \n",
       "4          Langston Blvd & N Scott St                    4   \n",
       "\n",
       "   NUM_BIKES_AVAILABLE  LONGITUDE   LATITUDE  \n",
       "0                   10 -77.060866  38.804378  \n",
       "1                    7 -77.091690  38.894941  \n",
       "2                    3 -77.104503  38.869442  \n",
       "3                    7 -77.026235  38.898243  \n",
       "4                   11 -77.080851  38.897612  "
      ]
     },
     "execution_count": 467,
     "metadata": {},
     "output_type": "execute_result"
    }
   ],
   "source": [
    "filtered_capacity = bike_capacity[['NAME','NUM_DOCKS_AVAILABLE','NUM_BIKES_AVAILABLE' ,'LONGITUDE', \"LATITUDE\"]]\n",
    "filtered_capacity.head()"
   ]
  },
  {
   "cell_type": "code",
   "execution_count": 468,
   "metadata": {},
   "outputs": [],
   "source": [
    "# Get a dataframe with all the bike stations and their names\n",
    "unique_stations = june_bike_data.drop_duplicates(subset=['Start station number'])[['Start station number', 'Start station']]"
   ]
  },
  {
   "cell_type": "code",
   "execution_count": 483,
   "metadata": {},
   "outputs": [],
   "source": [
    "# Add back the station names and the capacity to the dataset\n",
    "full_data_stations = pd.merge(full_data, unique_stations, how = 'left', left_on = 'station_id', right_on = 'Start station number')\n",
    "full_bike_data = pd.merge(full_data_stations, filtered_capacity, how = 'left', left_on = 'Start station', right_on = 'NAME')"
   ]
  },
  {
   "cell_type": "code",
   "execution_count": 484,
   "metadata": {},
   "outputs": [],
   "source": [
    "# Remove all the stations that are not in our dataset\n",
    "full_bike_data = full_bike_data[full_bike_data['NAME'].notna()]"
   ]
  },
  {
   "cell_type": "markdown",
   "metadata": {},
   "source": [
    "There's only 30 stations that do not have a capacity and all have either been moved, removed, or renamed"
   ]
  },
  {
   "cell_type": "code",
   "execution_count": 485,
   "metadata": {},
   "outputs": [],
   "source": [
    "# Calculate the total capacity\n",
    "full_bike_data['total_capacity'] = full_bike_data['NUM_DOCKS_AVAILABLE'] + full_bike_data['NUM_BIKES_AVAILABLE']"
   ]
  },
  {
   "cell_type": "code",
   "execution_count": 486,
   "metadata": {},
   "outputs": [],
   "source": [
    "# Drop the redundant info \n",
    "full_bike_data.drop(columns = ['NAME', 'Start station number','NUM_DOCKS_AVAILABLE','NUM_BIKES_AVAILABLE'], inplace = True)\n",
    "full_bike_data.rename({'Start station': 'station_name',  \n",
    "                       'LONGITUDE': 'longitude', \n",
    "                       'LATITUDE':'latitude'} , axis = 1, inplace = True)"
   ]
  },
  {
   "cell_type": "code",
   "execution_count": 487,
   "metadata": {},
   "outputs": [
    {
     "data": {
      "text/html": [
       "<div>\n",
       "<style scoped>\n",
       "    .dataframe tbody tr th:only-of-type {\n",
       "        vertical-align: middle;\n",
       "    }\n",
       "\n",
       "    .dataframe tbody tr th {\n",
       "        vertical-align: top;\n",
       "    }\n",
       "\n",
       "    .dataframe thead th {\n",
       "        text-align: right;\n",
       "    }\n",
       "</style>\n",
       "<table border=\"1\" class=\"dataframe\">\n",
       "  <thead>\n",
       "    <tr style=\"text-align: right;\">\n",
       "      <th></th>\n",
       "      <th>station_id</th>\n",
       "      <th>num_arrivals</th>\n",
       "      <th>Start_day</th>\n",
       "      <th>start_hour</th>\n",
       "      <th>num_depart</th>\n",
       "      <th>diff</th>\n",
       "      <th>station_name</th>\n",
       "      <th>longitude</th>\n",
       "      <th>latitude</th>\n",
       "      <th>total_capacity</th>\n",
       "    </tr>\n",
       "  </thead>\n",
       "  <tbody>\n",
       "    <tr>\n",
       "      <th>0</th>\n",
       "      <td>31000</td>\n",
       "      <td>6.0</td>\n",
       "      <td>2019-05-31</td>\n",
       "      <td>23</td>\n",
       "      <td>0.0</td>\n",
       "      <td>6.0</td>\n",
       "      <td>Eads St &amp; 15th St S</td>\n",
       "      <td>-77.053230</td>\n",
       "      <td>38.858971</td>\n",
       "      <td>14.0</td>\n",
       "    </tr>\n",
       "    <tr>\n",
       "      <th>2</th>\n",
       "      <td>31002</td>\n",
       "      <td>4.0</td>\n",
       "      <td>2019-05-31</td>\n",
       "      <td>23</td>\n",
       "      <td>0.0</td>\n",
       "      <td>4.0</td>\n",
       "      <td>Crystal Dr &amp; 20th St S</td>\n",
       "      <td>-77.049232</td>\n",
       "      <td>38.856425</td>\n",
       "      <td>17.0</td>\n",
       "    </tr>\n",
       "    <tr>\n",
       "      <th>3</th>\n",
       "      <td>31003</td>\n",
       "      <td>1.0</td>\n",
       "      <td>2019-05-31</td>\n",
       "      <td>23</td>\n",
       "      <td>0.0</td>\n",
       "      <td>1.0</td>\n",
       "      <td>Crystal Dr &amp; 15th St S</td>\n",
       "      <td>-77.049417</td>\n",
       "      <td>38.861056</td>\n",
       "      <td>15.0</td>\n",
       "    </tr>\n",
       "    <tr>\n",
       "      <th>4</th>\n",
       "      <td>31004</td>\n",
       "      <td>5.0</td>\n",
       "      <td>2019-05-31</td>\n",
       "      <td>23</td>\n",
       "      <td>0.0</td>\n",
       "      <td>5.0</td>\n",
       "      <td>Aurora Hills Cmty Ctr / 18th St &amp; S Hayes St</td>\n",
       "      <td>-77.059490</td>\n",
       "      <td>38.857866</td>\n",
       "      <td>12.0</td>\n",
       "    </tr>\n",
       "    <tr>\n",
       "      <th>5</th>\n",
       "      <td>31005</td>\n",
       "      <td>8.0</td>\n",
       "      <td>2019-05-31</td>\n",
       "      <td>23</td>\n",
       "      <td>0.0</td>\n",
       "      <td>8.0</td>\n",
       "      <td>Pentagon City Metro / 12th St &amp; S Hayes St</td>\n",
       "      <td>-77.059936</td>\n",
       "      <td>38.862303</td>\n",
       "      <td>18.0</td>\n",
       "    </tr>\n",
       "  </tbody>\n",
       "</table>\n",
       "</div>"
      ],
      "text/plain": [
       "  station_id  num_arrivals   Start_day  start_hour  num_depart  diff  \\\n",
       "0      31000           6.0  2019-05-31          23         0.0   6.0   \n",
       "2      31002           4.0  2019-05-31          23         0.0   4.0   \n",
       "3      31003           1.0  2019-05-31          23         0.0   1.0   \n",
       "4      31004           5.0  2019-05-31          23         0.0   5.0   \n",
       "5      31005           8.0  2019-05-31          23         0.0   8.0   \n",
       "\n",
       "                                   station_name  longitude   latitude  \\\n",
       "0                           Eads St & 15th St S -77.053230  38.858971   \n",
       "2                        Crystal Dr & 20th St S -77.049232  38.856425   \n",
       "3                        Crystal Dr & 15th St S -77.049417  38.861056   \n",
       "4  Aurora Hills Cmty Ctr / 18th St & S Hayes St -77.059490  38.857866   \n",
       "5    Pentagon City Metro / 12th St & S Hayes St -77.059936  38.862303   \n",
       "\n",
       "   total_capacity  \n",
       "0            14.0  \n",
       "2            17.0  \n",
       "3            15.0  \n",
       "4            12.0  \n",
       "5            18.0  "
      ]
     },
     "execution_count": 487,
     "metadata": {},
     "output_type": "execute_result"
    }
   ],
   "source": [
    "full_bike_data.head()"
   ]
  },
  {
   "cell_type": "markdown",
   "metadata": {},
   "source": [
    "### Determine the starting number of bikes for our timeframe"
   ]
  },
  {
   "cell_type": "markdown",
   "metadata": {},
   "source": [
    "#### Calculate cumulative sum of diff for every station"
   ]
  },
  {
   "cell_type": "code",
   "execution_count": 488,
   "metadata": {},
   "outputs": [],
   "source": [
    "# Sort the values so that we can view the stations individually one at a time in chronological order\n",
    "full_bike_data.sort_values(['station_id','Start_day', 'start_hour'], inplace = True)\n",
    "full_bike_data.reset_index(drop = True, inplace = True)"
   ]
  },
  {
   "cell_type": "code",
   "execution_count": 489,
   "metadata": {},
   "outputs": [],
   "source": [
    "full_bike_data['cumu_sum1'] = full_bike_data[['station_id','Start_day','start_hour','diff']].groupby(['station_id','Start_day','start_hour']).sum().groupby(level=0).cumsum().reset_index()['diff']"
   ]
  },
  {
   "cell_type": "code",
   "execution_count": 490,
   "metadata": {},
   "outputs": [],
   "source": [
    "#Some of the numbers are still a little weird - so we will use the custom cumulative sum function\n",
    "station_num = full_bike_data.loc[0,'station_id']\n",
    "cumu_sum = 0\n",
    "zero_counter = 0\n",
    "cap_counter = 0\n",
    "for i in range(0,len(full_bike_data)):\n",
    "    # Check to see if the station number has changed\n",
    "    if full_bike_data.loc[i,'station_id'] != station_num:\n",
    "        # If it has, reset the sum to the new station\n",
    "        station_num = full_bike_data.loc[i,'station_id']\n",
    "        cumu_sum = 0\n",
    "    # If the cumu sum has reached max capacity\n",
    "    if cumu_sum + full_bike_data.loc[i, 'diff'] >= full_bike_data.loc[i,'total_capacity']:\n",
    "        full_bike_data.at[i,'cumu_sum2'] = full_bike_data.loc[i,'total_capacity']\n",
    "        cumu_sum = full_bike_data.loc[i,'total_capacity']\n",
    "        cap_counter +=1\n",
    "    # If the cumu sum has reached minimum capacity\n",
    "    elif cumu_sum + full_bike_data.loc[i, 'diff'] < 0:\n",
    "        full_bike_data.at[i,'cumu_sum2'] = 0\n",
    "        cumu_sum = 0\n",
    "        zero_counter += 1\n",
    "    else:\n",
    "        # Add to the cumulative sum and add the data point to the table\n",
    "        cumu_sum += full_bike_data.loc[i, 'diff'] \n",
    "        full_bike_data.at[i,'cumu_sum2'] = cumu_sum"
   ]
  },
  {
   "cell_type": "markdown",
   "metadata": {},
   "source": [
    "### Bike availability error investigation"
   ]
  },
  {
   "cell_type": "markdown",
   "metadata": {},
   "source": [
    "#### How representative are the two cumulative sum calculations?"
   ]
  },
  {
   "cell_type": "code",
   "execution_count": 491,
   "metadata": {},
   "outputs": [
    {
     "name": "stdout",
     "output_type": "stream",
     "text": [
      "Number of times restricted cumu sum is negative: 2360\n",
      "Number of times restricted cumu sum is greater than capacity: 4678\n",
      "Percent of bikes affected by restriction: 4.420965350888213\n"
     ]
    }
   ],
   "source": [
    "print(\"Number of times restricted cumu sum is negative: {}\".format(zero_counter))\n",
    "print(\"Number of times restricted cumu sum is greater than capacity: {}\".format(cap_counter))\n",
    "print(\"Percent of bikes affected by restriction: {}\".format((zero_counter + cap_counter)/full_bike_data.shape[0]*100))"
   ]
  },
  {
   "cell_type": "code",
   "execution_count": 492,
   "metadata": {},
   "outputs": [
    {
     "name": "stdout",
     "output_type": "stream",
     "text": [
      "Number of times raw cumu sum is greater than capacity: 24759\n",
      "Number of times raw cumu sum is negative: 0\n"
     ]
    }
   ],
   "source": [
    "print(\"Number of times raw cumu sum is greater than capacity: {}\".format(full_bike_data[abs(full_bike_data['cumu_sum1']) > full_bike_data['total_capacity']].shape[0]))\n",
    "print(\"Number of times raw cumu sum is negative: {}\".format(full_bike_data[abs(full_bike_data['cumu_sum1']) < 0].shape[0]))"
   ]
  },
  {
   "cell_type": "markdown",
   "metadata": {},
   "source": [
    "- It looks like we should focus on the restricted cumulative sum since it affects less data points\n",
    "- The raw cumulative sum indicates that total capacity may not be correct all the time"
   ]
  },
  {
   "cell_type": "markdown",
   "metadata": {},
   "source": [
    "#### Bad starting points"
   ]
  },
  {
   "cell_type": "markdown",
   "metadata": {},
   "source": [
    "The main cause behind the errors in the cumulative sum is our inaccurate measure of the starting point\n",
    "but this only affects **40 stations** in our dataset and the numbers are fairly close so we will assume this is\n",
    "a natural error that can't be accounted for"
   ]
  },
  {
   "cell_type": "code",
   "execution_count": 493,
   "metadata": {},
   "outputs": [
    {
     "name": "stdout",
     "output_type": "stream",
     "text": [
      "Number of stations with a starting number that is above its capacity: 40\n"
     ]
    }
   ],
   "source": [
    "num_bad_starting_points = full_bike_data[(full_bike_data['Start_day'] == datetime.date(month = 5, year = 2019, day = 31))&(full_bike_data['num_arrivals']>full_bike_data['total_capacity'])].shape[0]\n",
    "print(\"Number of stations with a starting number that is above its capacity: {}\".format(num_bad_starting_points))"
   ]
  },
  {
   "cell_type": "markdown",
   "metadata": {},
   "source": [
    "#### Popular Events"
   ]
  },
  {
   "cell_type": "markdown",
   "metadata": {},
   "source": [
    "There also appeared to be random **large spikes and dips in arrivals and departures for some stations**, further investigation saw that these events were related to popular events like baseball games <br>\n",
    "For example, the station near the MLB Nationals Stadium had peak arrivals and departures around the time of the game. <br>\n",
    "This article shows how this is a common practice for the company, and we can assume that other large spikes are also due to large events <b>\n",
    "https://www.wnyc.org/story/285378-nine-percent-of-all-d-c-bike-share-bikes-are-at-washington-nationals-stadium-for-the-playoff-game/."
   ]
  },
  {
   "cell_type": "code",
   "execution_count": 494,
   "metadata": {},
   "outputs": [
    {
     "data": {
      "text/html": [
       "<div>\n",
       "<style scoped>\n",
       "    .dataframe tbody tr th:only-of-type {\n",
       "        vertical-align: middle;\n",
       "    }\n",
       "\n",
       "    .dataframe tbody tr th {\n",
       "        vertical-align: top;\n",
       "    }\n",
       "\n",
       "    .dataframe thead th {\n",
       "        text-align: right;\n",
       "    }\n",
       "</style>\n",
       "<table border=\"1\" class=\"dataframe\">\n",
       "  <thead>\n",
       "    <tr style=\"text-align: right;\">\n",
       "      <th></th>\n",
       "      <th>station_id</th>\n",
       "      <th>num_arrivals</th>\n",
       "      <th>Start_day</th>\n",
       "      <th>start_hour</th>\n",
       "      <th>num_depart</th>\n",
       "      <th>diff</th>\n",
       "      <th>station_name</th>\n",
       "      <th>longitude</th>\n",
       "      <th>latitude</th>\n",
       "      <th>total_capacity</th>\n",
       "      <th>cumu_sum1</th>\n",
       "      <th>cumu_sum2</th>\n",
       "    </tr>\n",
       "  </thead>\n",
       "  <tbody>\n",
       "    <tr>\n",
       "      <th>133993</th>\n",
       "      <td>31648</td>\n",
       "      <td>39.0</td>\n",
       "      <td>2019-06-01</td>\n",
       "      <td>19</td>\n",
       "      <td>3.0</td>\n",
       "      <td>36.0</td>\n",
       "      <td>Potomac Ave &amp; Half St SW</td>\n",
       "      <td>-77.010815</td>\n",
       "      <td>38.869683</td>\n",
       "      <td>23.0</td>\n",
       "      <td>67.0</td>\n",
       "      <td>23.0</td>\n",
       "    </tr>\n",
       "    <tr>\n",
       "      <th>133996</th>\n",
       "      <td>31648</td>\n",
       "      <td>0.0</td>\n",
       "      <td>2019-06-01</td>\n",
       "      <td>22</td>\n",
       "      <td>56.0</td>\n",
       "      <td>-56.0</td>\n",
       "      <td>Potomac Ave &amp; Half St SW</td>\n",
       "      <td>-77.010815</td>\n",
       "      <td>38.869683</td>\n",
       "      <td>23.0</td>\n",
       "      <td>15.0</td>\n",
       "      <td>0.0</td>\n",
       "    </tr>\n",
       "    <tr>\n",
       "      <th>134298</th>\n",
       "      <td>31648</td>\n",
       "      <td>35.0</td>\n",
       "      <td>2019-06-26</td>\n",
       "      <td>19</td>\n",
       "      <td>2.0</td>\n",
       "      <td>33.0</td>\n",
       "      <td>Potomac Ave &amp; Half St SW</td>\n",
       "      <td>-77.010815</td>\n",
       "      <td>38.869683</td>\n",
       "      <td>23.0</td>\n",
       "      <td>84.0</td>\n",
       "      <td>23.0</td>\n",
       "    </tr>\n",
       "    <tr>\n",
       "      <th>134301</th>\n",
       "      <td>31648</td>\n",
       "      <td>2.0</td>\n",
       "      <td>2019-06-26</td>\n",
       "      <td>22</td>\n",
       "      <td>63.0</td>\n",
       "      <td>-61.0</td>\n",
       "      <td>Potomac Ave &amp; Half St SW</td>\n",
       "      <td>-77.010815</td>\n",
       "      <td>38.869683</td>\n",
       "      <td>23.0</td>\n",
       "      <td>17.0</td>\n",
       "      <td>0.0</td>\n",
       "    </tr>\n",
       "    <tr>\n",
       "      <th>134337</th>\n",
       "      <td>31648</td>\n",
       "      <td>34.0</td>\n",
       "      <td>2019-06-29</td>\n",
       "      <td>19</td>\n",
       "      <td>2.0</td>\n",
       "      <td>32.0</td>\n",
       "      <td>Potomac Ave &amp; Half St SW</td>\n",
       "      <td>-77.010815</td>\n",
       "      <td>38.869683</td>\n",
       "      <td>23.0</td>\n",
       "      <td>59.0</td>\n",
       "      <td>23.0</td>\n",
       "    </tr>\n",
       "    <tr>\n",
       "      <th>134340</th>\n",
       "      <td>31648</td>\n",
       "      <td>1.0</td>\n",
       "      <td>2019-06-29</td>\n",
       "      <td>22</td>\n",
       "      <td>45.0</td>\n",
       "      <td>-44.0</td>\n",
       "      <td>Potomac Ave &amp; Half St SW</td>\n",
       "      <td>-77.010815</td>\n",
       "      <td>38.869683</td>\n",
       "      <td>23.0</td>\n",
       "      <td>19.0</td>\n",
       "      <td>0.0</td>\n",
       "    </tr>\n",
       "  </tbody>\n",
       "</table>\n",
       "</div>"
      ],
      "text/plain": [
       "       station_id  num_arrivals   Start_day  start_hour  num_depart  diff  \\\n",
       "133993      31648          39.0  2019-06-01          19         3.0  36.0   \n",
       "133996      31648           0.0  2019-06-01          22        56.0 -56.0   \n",
       "134298      31648          35.0  2019-06-26          19         2.0  33.0   \n",
       "134301      31648           2.0  2019-06-26          22        63.0 -61.0   \n",
       "134337      31648          34.0  2019-06-29          19         2.0  32.0   \n",
       "134340      31648           1.0  2019-06-29          22        45.0 -44.0   \n",
       "\n",
       "                    station_name  longitude   latitude  total_capacity  \\\n",
       "133993  Potomac Ave & Half St SW -77.010815  38.869683            23.0   \n",
       "133996  Potomac Ave & Half St SW -77.010815  38.869683            23.0   \n",
       "134298  Potomac Ave & Half St SW -77.010815  38.869683            23.0   \n",
       "134301  Potomac Ave & Half St SW -77.010815  38.869683            23.0   \n",
       "134337  Potomac Ave & Half St SW -77.010815  38.869683            23.0   \n",
       "134340  Potomac Ave & Half St SW -77.010815  38.869683            23.0   \n",
       "\n",
       "        cumu_sum1  cumu_sum2  \n",
       "133993       67.0       23.0  \n",
       "133996       15.0        0.0  \n",
       "134298       84.0       23.0  \n",
       "134301       17.0        0.0  \n",
       "134337       59.0       23.0  \n",
       "134340       19.0        0.0  "
      ]
     },
     "execution_count": 494,
     "metadata": {},
     "output_type": "execute_result"
    }
   ],
   "source": [
    "full_bike_data[(full_bike_data['station_id'] == 31648) & (abs(full_bike_data['diff']) > full_bike_data['total_capacity'])]"
   ]
  },
  {
   "cell_type": "markdown",
   "metadata": {},
   "source": [
    "### Adding additional information"
   ]
  },
  {
   "cell_type": "code",
   "execution_count": 495,
   "metadata": {},
   "outputs": [],
   "source": [
    "full_bike_data.drop(columns = ['cumu_sum1'], axis = 1, inplace = True)\n",
    "full_bike_data.rename({'cumu_sum2':'cumu_sum'}, axis = 1, inplace = True)"
   ]
  },
  {
   "cell_type": "code",
   "execution_count": 496,
   "metadata": {},
   "outputs": [],
   "source": [
    "full_bike_data['percent_full'] = full_bike_data['cumu_sum']/full_bike_data['total_capacity']\n",
    "full_bike_data['weekday_num'] = pd.to_datetime(full_bike_data['Start_day'], errors = 'coerce').dt.weekday\n",
    "#full_bike_data.head()\n",
    "full_bike_data['weekend_flag'] = np.where((full_bike_data['weekday_num'] == 6) | (full_bike_data['weekday_num'] == 5), 1, 0)"
   ]
  },
  {
   "cell_type": "code",
   "execution_count": 497,
   "metadata": {},
   "outputs": [
    {
     "data": {
      "text/html": [
       "<div>\n",
       "<style scoped>\n",
       "    .dataframe tbody tr th:only-of-type {\n",
       "        vertical-align: middle;\n",
       "    }\n",
       "\n",
       "    .dataframe tbody tr th {\n",
       "        vertical-align: top;\n",
       "    }\n",
       "\n",
       "    .dataframe thead th {\n",
       "        text-align: right;\n",
       "    }\n",
       "</style>\n",
       "<table border=\"1\" class=\"dataframe\">\n",
       "  <thead>\n",
       "    <tr style=\"text-align: right;\">\n",
       "      <th></th>\n",
       "      <th>station_id</th>\n",
       "      <th>num_arrivals</th>\n",
       "      <th>Start_day</th>\n",
       "      <th>start_hour</th>\n",
       "      <th>num_depart</th>\n",
       "      <th>diff</th>\n",
       "      <th>station_name</th>\n",
       "      <th>longitude</th>\n",
       "      <th>latitude</th>\n",
       "      <th>total_capacity</th>\n",
       "      <th>cumu_sum</th>\n",
       "      <th>percent_full</th>\n",
       "      <th>weekday_num</th>\n",
       "      <th>weekend_flag</th>\n",
       "    </tr>\n",
       "  </thead>\n",
       "  <tbody>\n",
       "    <tr>\n",
       "      <th>0</th>\n",
       "      <td>31000</td>\n",
       "      <td>6.0</td>\n",
       "      <td>2019-05-31</td>\n",
       "      <td>23</td>\n",
       "      <td>0.0</td>\n",
       "      <td>6.0</td>\n",
       "      <td>Eads St &amp; 15th St S</td>\n",
       "      <td>-77.05323</td>\n",
       "      <td>38.858971</td>\n",
       "      <td>14.0</td>\n",
       "      <td>6.0</td>\n",
       "      <td>0.428571</td>\n",
       "      <td>4</td>\n",
       "      <td>0</td>\n",
       "    </tr>\n",
       "    <tr>\n",
       "      <th>1</th>\n",
       "      <td>31000</td>\n",
       "      <td>0.0</td>\n",
       "      <td>2019-06-01</td>\n",
       "      <td>8</td>\n",
       "      <td>2.0</td>\n",
       "      <td>-2.0</td>\n",
       "      <td>Eads St &amp; 15th St S</td>\n",
       "      <td>-77.05323</td>\n",
       "      <td>38.858971</td>\n",
       "      <td>14.0</td>\n",
       "      <td>4.0</td>\n",
       "      <td>0.285714</td>\n",
       "      <td>5</td>\n",
       "      <td>1</td>\n",
       "    </tr>\n",
       "    <tr>\n",
       "      <th>2</th>\n",
       "      <td>31000</td>\n",
       "      <td>0.0</td>\n",
       "      <td>2019-06-01</td>\n",
       "      <td>10</td>\n",
       "      <td>2.0</td>\n",
       "      <td>-2.0</td>\n",
       "      <td>Eads St &amp; 15th St S</td>\n",
       "      <td>-77.05323</td>\n",
       "      <td>38.858971</td>\n",
       "      <td>14.0</td>\n",
       "      <td>2.0</td>\n",
       "      <td>0.142857</td>\n",
       "      <td>5</td>\n",
       "      <td>1</td>\n",
       "    </tr>\n",
       "    <tr>\n",
       "      <th>3</th>\n",
       "      <td>31000</td>\n",
       "      <td>0.0</td>\n",
       "      <td>2019-06-01</td>\n",
       "      <td>14</td>\n",
       "      <td>1.0</td>\n",
       "      <td>-1.0</td>\n",
       "      <td>Eads St &amp; 15th St S</td>\n",
       "      <td>-77.05323</td>\n",
       "      <td>38.858971</td>\n",
       "      <td>14.0</td>\n",
       "      <td>1.0</td>\n",
       "      <td>0.071429</td>\n",
       "      <td>5</td>\n",
       "      <td>1</td>\n",
       "    </tr>\n",
       "    <tr>\n",
       "      <th>4</th>\n",
       "      <td>31000</td>\n",
       "      <td>0.0</td>\n",
       "      <td>2019-06-01</td>\n",
       "      <td>17</td>\n",
       "      <td>2.0</td>\n",
       "      <td>-2.0</td>\n",
       "      <td>Eads St &amp; 15th St S</td>\n",
       "      <td>-77.05323</td>\n",
       "      <td>38.858971</td>\n",
       "      <td>14.0</td>\n",
       "      <td>0.0</td>\n",
       "      <td>0.000000</td>\n",
       "      <td>5</td>\n",
       "      <td>1</td>\n",
       "    </tr>\n",
       "  </tbody>\n",
       "</table>\n",
       "</div>"
      ],
      "text/plain": [
       "  station_id  num_arrivals   Start_day  start_hour  num_depart  diff  \\\n",
       "0      31000           6.0  2019-05-31          23         0.0   6.0   \n",
       "1      31000           0.0  2019-06-01           8         2.0  -2.0   \n",
       "2      31000           0.0  2019-06-01          10         2.0  -2.0   \n",
       "3      31000           0.0  2019-06-01          14         1.0  -1.0   \n",
       "4      31000           0.0  2019-06-01          17         2.0  -2.0   \n",
       "\n",
       "          station_name  longitude   latitude  total_capacity  cumu_sum  \\\n",
       "0  Eads St & 15th St S  -77.05323  38.858971            14.0       6.0   \n",
       "1  Eads St & 15th St S  -77.05323  38.858971            14.0       4.0   \n",
       "2  Eads St & 15th St S  -77.05323  38.858971            14.0       2.0   \n",
       "3  Eads St & 15th St S  -77.05323  38.858971            14.0       1.0   \n",
       "4  Eads St & 15th St S  -77.05323  38.858971            14.0       0.0   \n",
       "\n",
       "   percent_full  weekday_num  weekend_flag  \n",
       "0      0.428571            4             0  \n",
       "1      0.285714            5             1  \n",
       "2      0.142857            5             1  \n",
       "3      0.071429            5             1  \n",
       "4      0.000000            5             1  "
      ]
     },
     "execution_count": 497,
     "metadata": {},
     "output_type": "execute_result"
    }
   ],
   "source": [
    "full_bike_data.head()"
   ]
  },
  {
   "cell_type": "code",
   "execution_count": 498,
   "metadata": {},
   "outputs": [],
   "source": [
    "full_bike_data.to_csv('C:/Users/cbrig/OneDrive/CMU/Perspectives in Data Science/Group Project/cleaned_bike_data_june2019_v2.csv')"
   ]
  },
  {
   "cell_type": "markdown",
   "metadata": {},
   "source": [
    "## Archive code"
   ]
  },
  {
   "cell_type": "code",
   "execution_count": 63,
   "metadata": {},
   "outputs": [],
   "source": [
    "# Calculate the last point in time for each station\n",
    "# idx = may_final_bike_data.groupby(['station_id']).agg({'Start_day': np.max, 'start_hour': np.max, 'index':np.max})['index']\n",
    "# may_last_bike = may_final_bike_data[may_final_bike_data['index'].isin(idx)]\n",
    "# may_last_bike = may_last_bike.drop(columns = ['index'])\n",
    "# print(may_last_bike.shape)\n",
    "# may_last_bike.head()"
   ]
  },
  {
   "cell_type": "code",
   "execution_count": null,
   "metadata": {},
   "outputs": [],
   "source": []
  }
 ],
 "metadata": {
  "kernelspec": {
   "display_name": "Python 3",
   "language": "python",
   "name": "python3"
  },
  "language_info": {
   "codemirror_mode": {
    "name": "ipython",
    "version": 3
   },
   "file_extension": ".py",
   "mimetype": "text/x-python",
   "name": "python",
   "nbconvert_exporter": "python",
   "pygments_lexer": "ipython3",
   "version": "3.8.8"
  }
 },
 "nbformat": 4,
 "nbformat_minor": 4
}
